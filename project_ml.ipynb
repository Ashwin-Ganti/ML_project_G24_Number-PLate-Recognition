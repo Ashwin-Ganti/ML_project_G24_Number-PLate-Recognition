{
 "cells": [
  {
   "cell_type": "code",
   "execution_count": null,
   "metadata": {},
   "outputs": [],
   "source": [
    "import os\n",
    "os.environ['TF_CPP_MIN_LOG_LEVEL'] = '3'\n",
    "\n",
    "import cv2\n",
    "import numpy as np\n",
    "import matplotlib.pyplot as plt\n",
    "import matplotlib.gridspec as gridspec\n",
    "from local_utils import detect_lp\n",
    "from os.path import splitext\n",
    "from keras.models import model_from_json\n",
    "from sklearn.preprocessing import LabelEncoder"
   ]
  },
  {
   "cell_type": "code",
   "execution_count": null,
   "metadata": {},
   "outputs": [],
   "source": [
    "image_path = \"D:\\\\Fifth Sem\\\\Machine Learning\\\\Lab/Resources\\\\\""
   ]
  },
  {
   "cell_type": "code",
   "execution_count": null,
   "metadata": {},
   "outputs": [],
   "source": [
    "def load_model(path):\n",
    "    try:\n",
    "        path = splitext(path)[0]\n",
    "        with open('%s.json' % path, 'r') as json_file:\n",
    "            model_json = json_file.read()\n",
    "        model = model_from_json(model_json, custom_objects={})\n",
    "        model.load_weights('%s.h5' % path)\n",
    "        return model\n",
    "    except Exception as e:\n",
    "        print(e)"
   ]
  },
  {
   "cell_type": "code",
   "execution_count": null,
   "metadata": {},
   "outputs": [],
   "source": [
    "wpod_net_path = \"wpod-net.json\"\n",
    "wpod_net = load_model(wpod_net_path)"
   ]
  },
  {
   "cell_type": "code",
   "execution_count": null,
   "metadata": {},
   "outputs": [],
   "source": [
    "def preprocess_image(image_path, resize = False):\n",
    "    img = cv2.imread(image_path)\n",
    "    img = cv2.cvtColor(img, cv2.COLOR_BGR2RGB)\n",
    "    img = img / 255\n",
    "    if resize:\n",
    "        img = cv2.resize(img, (224,224))\n",
    "    return img\n",
    "\n",
    "def get_plate(image_path, Dmax = 450, Dmin = 450):\n",
    "    vehicle = preprocess_image(image_path)\n",
    "    ratio = float(max(vehicle.shape[ : 3])) / min(vehicle.shape[ : 3])\n",
    "    side = int(ratio * Dmin)\n",
    "    bound_dim = min(side, Dmax)\n",
    "    _ , LpImg, _, cor = detect_lp(wpod_net, vehicle, bound_dim, lp_threshold = 0.5)\n",
    "    return vehicle, LpImg, cor\n",
    "\n",
    "test_image_path = image_path + \"62A05990.JPG\"\n",
    "vehicle, LpImg, cor = get_plate(test_image_path)\n",
    "\n",
    "fig = plt.figure(figsize = (12, 6))\n",
    "\n",
    "grid = gridspec.GridSpec(ncols = 2, nrows = 1, figure = fig)\n",
    "fig.add_subplot(grid[0])\n",
    "plt.axis(False)\n",
    "plt.imshow(vehicle)\n",
    "\n",
    "grid = gridspec.GridSpec( ncols = 2, nrows = 1, figure = fig)\n",
    "fig.add_subplot(grid[1])\n",
    "plt.axis(False)\n",
    "plt.imshow(LpImg[0])"
   ]
  },
  {
   "cell_type": "code",
   "execution_count": null,
   "metadata": {},
   "outputs": [],
   "source": [
    "if (len(LpImg)):\n",
    "    plate_image = cv2.convertScaleAbs(LpImg[0], alpha = (255.0))\n",
    "\n",
    "    gray = cv2.cvtColor(plate_image, cv2.COLOR_BGR2GRAY)\n",
    "    blur = cv2.GaussianBlur(gray, (7, 7), 0)\n",
    "\n",
    "    binary = cv2.threshold(blur, 180, 255, cv2.THRESH_BINARY_INV + cv2.THRESH_OTSU)[1]\n",
    "    \n",
    "    kernel3 = cv2.getStructuringElement(cv2.MORPH_RECT, (3, 3))\n",
    "    thre_mor = cv2.morphologyEx(binary, cv2.MORPH_DILATE, kernel3)\n",
    "    \n",
    "fig = plt.figure(figsize = (12, 7))\n",
    "plt.rcParams.update({\"font.size\": 18})\n",
    "grid = gridspec.GridSpec(ncols = 2, nrows = 3, figure = fig)\n",
    "plot_image = [plate_image, gray, blur, binary, thre_mor]\n",
    "plot_name = [\"plate_image\", \"gray\", \"blur\", \"binary\", \"dilation\"]\n",
    "\n",
    "for i in range(len(plot_image)):\n",
    "    fig.add_subplot(grid[i])\n",
    "    plt.axis(False)\n",
    "    plt.title(plot_name[i])\n",
    "    if i == 0:\n",
    "        plt.imshow(plot_image[i])\n",
    "    else:\n",
    "        plt.imshow(plot_image[i], cmap = \"gray\")"
   ]
  },
  {
   "cell_type": "code",
   "execution_count": null,
   "metadata": {},
   "outputs": [],
   "source": [
    "def sort_contours(cnts,reverse = False):\n",
    "    i = 0\n",
    "    boundingBoxes = [cv2.boundingRect(c) for c in cnts]\n",
    "    (cnts, boundingBoxes) = zip(*sorted(zip(cnts, boundingBoxes), key = lambda b: b[1][i], reverse = reverse))\n",
    "    return cnts\n",
    "\n",
    "cont, _  = cv2.findContours(binary, cv2.RETR_EXTERNAL, cv2.CHAIN_APPROX_SIMPLE)\n",
    "\n",
    "test_roi = plate_image.copy()\n",
    "\n",
    "crop_characters = []\n",
    "\n",
    "digit_w, digit_h = 30, 60\n",
    "\n",
    "for c in sort_contours(cont):\n",
    "    (x, y, w, h) = cv2.boundingRect(c)\n",
    "    ratio = h / w\n",
    "    if 1 <= ratio <= 3.5: \n",
    "        if h / plate_image.shape[0] >= 0.5: \n",
    "            cv2.rectangle(test_roi, (x, y), (x + w, y + h), (0, 255, 0), 2)\n",
    "\n",
    "            curr_num = thre_mor[y : y + h, x : x + w]\n",
    "            curr_num = cv2.resize(curr_num, dsize = (digit_w, digit_h))\n",
    "            _ , curr_num = cv2.threshold(curr_num, 220, 255, cv2.THRESH_BINARY + cv2.THRESH_OTSU)\n",
    "            crop_characters.append(curr_num)\n",
    "\n",
    "print(\"Detect {} letters...\".format(len(crop_characters)))\n",
    "fig = plt.figure(figsize=(10,6))\n",
    "plt.axis(False)\n",
    "plt.imshow(test_roi)"
   ]
  },
  {
   "cell_type": "code",
   "execution_count": null,
   "metadata": {},
   "outputs": [],
   "source": [
    "fig = plt.figure(figsize = (14, 4))\n",
    "grid = gridspec.GridSpec(ncols = len(crop_characters), nrows = 1, figure = fig)\n",
    "\n",
    "for i in range(len(crop_characters)):\n",
    "    fig.add_subplot(grid[i])\n",
    "    plt.axis(False)\n",
    "    plt.imshow(crop_characters[i], cmap = \"gray\")"
   ]
  },
  {
   "cell_type": "code",
   "execution_count": null,
   "metadata": {},
   "outputs": [],
   "source": [
    "json_file = open('MobileNets_character_recognition.json', 'r')\n",
    "loaded_model_json = json_file.read()\n",
    "json_file.close()\n",
    "model = model_from_json(loaded_model_json)\n",
    "model.load_weights(\"License_character_recognition_weight.h5\")\n",
    "\n",
    "labels = LabelEncoder()\n",
    "labels.classes_ = np.load('license_character_classes.npy')"
   ]
  },
  {
   "cell_type": "code",
   "execution_count": null,
   "metadata": {},
   "outputs": [],
   "source": [
    "def predict_from_model(image, model, labels):\n",
    "    image = cv2.resize(image, (80, 80))\n",
    "    image = np.stack((image,) * 3, axis = -1)\n",
    "    prediction = labels.inverse_transform([np.argmax(model.predict(image[np.newaxis, :]))])\n",
    "    return prediction"
   ]
  },
  {
   "cell_type": "code",
   "execution_count": null,
   "metadata": {},
   "outputs": [],
   "source": [
    "fig = plt.figure(figsize = (15, 3))\n",
    "cols = len(crop_characters)\n",
    "grid = gridspec.GridSpec(ncols = cols, nrows = 1, figure = fig)\n",
    "\n",
    "final_string = ''\n",
    "for i,character in enumerate(crop_characters):\n",
    "    fig.add_subplot(grid[i])\n",
    "    title = np.array2string(predict_from_model(character, model, labels))\n",
    "    plt.title('{}'.format(title.strip(\"'[]\"), fontsize = 20))\n",
    "    final_string += title.strip(\"'[]\")\n",
    "    plt.axis(False)\n",
    "    plt.imshow(character, cmap = 'gray')\n",
    "\n",
    "print(final_string)\n",
    "plt.savefig('final_result.png', dpi=300)"
   ]
  }
 ],
 "metadata": {
  "interpreter": {
   "hash": "420b095231a2a00faff91f824a7c4be90995b47a2b6027717f9234eb3603ef70"
  },
  "kernelspec": {
   "display_name": "Python 3.9.7 64-bit",
   "name": "python3"
  },
  "language_info": {
   "codemirror_mode": {
    "name": "ipython",
    "version": 3
   },
   "file_extension": ".py",
   "mimetype": "text/x-python",
   "name": "python",
   "nbconvert_exporter": "python",
   "pygments_lexer": "ipython3",
   "version": "3.9.7"
  },
  "orig_nbformat": 4
 },
 "nbformat": 4,
 "nbformat_minor": 2
}
